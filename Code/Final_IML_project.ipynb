{
 "cells": [
  {
   "cell_type": "markdown",
   "metadata": {},
   "source": [
    "#                                 Comparision of Traditional, Tandem and learning with rationale model"
   ]
  },
  {
   "cell_type": "code",
   "execution_count": 3,
   "metadata": {
    "collapsed": true
   },
   "outputs": [],
   "source": [
    "import pandas as pd\n",
    "import numpy as np\n",
    "import scipy.sparse as sp\n",
    "from sklearn.feature_selection import chi2\n"
   ]
  },
  {
   "cell_type": "markdown",
   "metadata": {},
   "source": [
    "# Dont run this block everytime as it will empty the list in which data is being stored for taking the average.(Results for each run with different random seed)"
   ]
  },
  {
   "cell_type": "code",
   "execution_count": 4,
   "metadata": {
    "collapsed": true
   },
   "outputs": [],
   "source": [
    "total_accuracy_tradional_learning = []\n",
    "total_accuracy_tandem_learning = []\n",
    "total_accuracy_rationale_learning = []\n",
    "total_auc_tradional = []\n",
    "total_auc_tandem =[]\n",
    "total_auc_rationale = []"
   ]
  },
  {
   "cell_type": "markdown",
   "metadata": {},
   "source": [
    "# Reading the csv into dataframe   In order to get the average of all the result excute the blocks from below 5 times "
   ]
  },
  {
   "cell_type": "code",
   "execution_count": 5,
   "metadata": {
    "collapsed": true
   },
   "outputs": [],
   "source": [
    "dataframe1 = pd.read_csv(\"E:\\Tranparent machine learning\\hotel-reviews.csv\")\n",
    "data = dataframe1['Description']"
   ]
  },
  {
   "cell_type": "markdown",
   "metadata": {},
   "source": [
    "# Binarize the label"
   ]
  },
  {
   "cell_type": "code",
   "execution_count": 6,
   "metadata": {
    "collapsed": true
   },
   "outputs": [],
   "source": [
    "label = dataframe1['Is_Response'].map(lambda x : 1 if x == \"happy\" else 0)"
   ]
  },
  {
   "cell_type": "markdown",
   "metadata": {},
   "source": [
    "# Use CountVectorizer to binarize the reviews using uni_gram and min_df =3"
   ]
  },
  {
   "cell_type": "code",
   "execution_count": 7,
   "metadata": {
    "collapsed": true
   },
   "outputs": [],
   "source": [
    "from sklearn.feature_extraction.text import CountVectorizer\n",
    "ct_vectorizer = CountVectorizer(ngram_range=(1, 1), min_df=3,stop_words='english', binary=True)\n",
    "X_data = ct_vectorizer.fit_transform(data)"
   ]
  },
  {
   "cell_type": "code",
   "execution_count": 8,
   "metadata": {
    "collapsed": false
   },
   "outputs": [
    {
     "name": "stdout",
     "output_type": "stream",
     "text": [
      "the total number of features 18887\n"
     ]
    }
   ],
   "source": [
    "feature_name = ct_vectorizer.get_feature_names()\n",
    "print(\"the total number of features\",len(feature_name))\n"
   ]
  },
  {
   "cell_type": "markdown",
   "metadata": {},
   "source": [
    "# Spiliting the data into train and test. 90% for test and 10% for training"
   ]
  },
  {
   "cell_type": "code",
   "execution_count": 9,
   "metadata": {
    "collapsed": false
   },
   "outputs": [
    {
     "name": "stderr",
     "output_type": "stream",
     "text": [
      "C:\\Users\\sunvi\\Anaconda3\\lib\\site-packages\\sklearn\\cross_validation.py:41: DeprecationWarning: This module was deprecated in version 0.18 in favor of the model_selection module into which all the refactored classes and functions are moved. Also note that the interface of the new CV iterators are different from that of this module. This module will be removed in 0.20.\n",
      "  \"This module will be removed in 0.20.\", DeprecationWarning)\n"
     ]
    }
   ],
   "source": [
    "from sklearn.cross_validation import train_test_split\n",
    "X_train, X_test, y_train, y_test = train_test_split(X_data, label, test_size=0.9, random_state=217)"
   ]
  },
  {
   "cell_type": "markdown",
   "metadata": {},
   "source": [
    "# Number of positive and negative document found in training"
   ]
  },
  {
   "cell_type": "code",
   "execution_count": 10,
   "metadata": {
    "collapsed": false
   },
   "outputs": [
    {
     "data": {
      "text/plain": [
       "(3893, 18887)"
      ]
     },
     "execution_count": 10,
     "metadata": {},
     "output_type": "execute_result"
    }
   ],
   "source": [
    "X_train.shape"
   ]
  },
  {
   "cell_type": "code",
   "execution_count": 11,
   "metadata": {
    "collapsed": false
   },
   "outputs": [
    {
     "name": "stdout",
     "output_type": "stream",
     "text": [
      "Number of positive instance in X_train 2690\n",
      "Number of negative instance in X_train 1203\n"
     ]
    }
   ],
   "source": [
    "X = X_train.toarray()\n",
    "positive = X[y_train == 1]\n",
    "negative = X[y_train == 0]\n",
    "print(\"Number of positive instance in X_train\",positive.shape[0])\n",
    "print(\"Number of negative instance in X_train\",negative.shape[0])"
   ]
  },
  {
   "cell_type": "markdown",
   "metadata": {},
   "source": [
    "# Checking the accuracy of the classifier by fitting all the training data"
   ]
  },
  {
   "cell_type": "code",
   "execution_count": 12,
   "metadata": {
    "collapsed": true
   },
   "outputs": [],
   "source": [
    "from sklearn import linear_model\n",
    "lr_clf_l2 = linear_model.LogisticRegression(penalty='l2')\n",
    "#from sklearn.naive_bayes import MultinomialNB\n",
    "#lr_clf_l2 = MultinomialNB()"
   ]
  },
  {
   "cell_type": "code",
   "execution_count": 13,
   "metadata": {
    "collapsed": false
   },
   "outputs": [
    {
     "name": "stdout",
     "output_type": "stream",
     "text": [
      "accuracy of model without rationale for training 99.589005908\n",
      "accuracy of model without rationale for test 84.6941978938\n"
     ]
    }
   ],
   "source": [
    "model_without_rational = lr_clf_l2.fit(X_train,y_train )\n",
    "print(\"accuracy of model without rationale for training\",lr_clf_l2.score(X_train, y_train)*100)\n",
    "print(\"accuracy of model without rationale for test\",lr_clf_l2.score(X_test, y_test)*100)"
   ]
  },
  {
   "cell_type": "code",
   "execution_count": 14,
   "metadata": {
    "collapsed": false
   },
   "outputs": [
    {
     "name": "stdout",
     "output_type": "stream",
     "text": [
      "AUC of the whole model is  0.901950445516\n"
     ]
    }
   ],
   "source": [
    "from sklearn import metrics\n",
    "from sklearn.metrics import roc_curve , auc\n",
    "pred = lr_clf_l2.predict_proba(X_test)[:,1]\n",
    "fpr,tpr,_= metrics.roc_curve(y_test,pred)\n",
    "auc=metrics.auc(fpr,tpr)\n",
    "print(\"AUC of the whole model is \",auc)"
   ]
  },
  {
   "cell_type": "markdown",
   "metadata": {},
   "source": [
    "# Traditional learning"
   ]
  },
  {
   "cell_type": "code",
   "execution_count": 15,
   "metadata": {
    "collapsed": true
   },
   "outputs": [],
   "source": [
    "from sklearn import linear_model                              ##Comment and uncomment the classifier you want to use.\n",
    "lr_clf_l2 = linear_model.LogisticRegression(penalty='l2')\n",
    "#from sklearn.naive_bayes import MultinomialNB\n",
    "#lr_clf_l2 = MultinomialNB()"
   ]
  },
  {
   "cell_type": "markdown",
   "metadata": {},
   "source": [
    "# Fitting the traditional training model iteratively after each count of 5"
   ]
  },
  {
   "cell_type": "code",
   "execution_count": 16,
   "metadata": {
    "collapsed": false
   },
   "outputs": [],
   "source": [
    "\n",
    "\n",
    "accu_train_wor = []\n",
    "accu_test_wor = []\n",
    "y_wor_train = []\n",
    "X_wor_train = None\n",
    "total1 = []\n",
    "count = 0\n",
    "auc_tradional = []\n",
    "total_count = 0\n",
    "for i in range(0,200):\n",
    "    count = count +1\n",
    "    total_count = total_count + 1 \n",
    "    X_wor_train = sp.vstack((X_wor_train,X_train[i]))        \n",
    "    y_wor_train.append(y_train.iloc[i])\n",
    "    if count == 5:\n",
    "        count = 0\n",
    "        total1.append(total_count)\n",
    "        lr_clf_l2.fit(X_wor_train, np.array(y_wor_train))\n",
    "        accu_train_wor.append(lr_clf_l2.score(X_wor_train,np.array(y_wor_train)))\n",
    "        accu_test_wor.append(lr_clf_l2.score(X_test, y_test))\n",
    "        pred = lr_clf_l2.predict_proba(X_test)[:,1]\n",
    "        fpr,tpr,_= metrics.roc_curve(y_test,pred)\n",
    "        auc_tradional.append(metrics.auc(fpr,tpr))"
   ]
  },
  {
   "cell_type": "code",
   "execution_count": 17,
   "metadata": {
    "collapsed": false
   },
   "outputs": [
    {
     "data": {
      "image/png": "[encoded data removed]",
      "text/plain": [
       "<matplotlib.figure.Figure at 0x1b3296dbd68>"
      ]
     },
     "metadata": {},
     "output_type": "display_data"
    }
   ],
   "source": [
    "import matplotlib.pyplot as plt\n",
    "plt.plot(total1,auc_tradional,label = \"tradional learning\")\n",
    "\n",
    "plt.legend()\n",
    "plt.xlabel('Number of documents')\n",
    "plt.ylabel('AUC')\n",
    "plt.show()"
   ]
  },
  {
   "cell_type": "markdown",
   "metadata": {},
   "source": [
    "# Chi sqaure to get the list of words"
   ]
  },
  {
   "cell_type": "code",
   "execution_count": 18,
   "metadata": {
    "collapsed": true
   },
   "outputs": [],
   "source": [
    "chi2_scores = chi2(X_train, y_train)\n",
    "feature_scores = chi2_scores[0]\n",
    "nan_index  = np.nonzero(np.isnan(feature_scores))\n",
    "feature_scores[nan_index] = 0\n",
    "feature_rank = np.argsort(feature_scores)[::-1]"
   ]
  },
  {
   "cell_type": "code",
   "execution_count": 19,
   "metadata": {
    "collapsed": false
   },
   "outputs": [],
   "source": [
    "X_train = X_train.toarray() ###Converting X_train to array to check the number of positive and negative counts in one line"
   ]
  },
  {
   "cell_type": "markdown",
   "metadata": {},
   "source": [
    "# Dividing the words as positive or negative rationale depending upon its occurence in positive and negative label"
   ]
  },
  {
   "cell_type": "code",
   "execution_count": 20,
   "metadata": {
    "collapsed": false
   },
   "outputs": [],
   "source": [
    "index_negative = []\n",
    "index_positive =  []\n",
    "index_overall = []\n",
    "rational = []\n",
    "def count_positive_negative(X_train,y_train,feature_rank):\n",
    "    negative_rational = []\n",
    "    positive_rational = []\n",
    "    \n",
    "    for i in feature_rank[:100]:\n",
    "    \n",
    "        negcount = np.sum(X_train[y_train==0,i])\n",
    "        poscount = np.sum(X_train[y_train==1,i])\n",
    "\n",
    "        if negcount > poscount:\n",
    "\n",
    "            if negcount/poscount > 3:                        ### Dividing the total negative count by positive count if the ratio is greater\n",
    "                negative_rational.append(feature_name[i])    ### than 3 only then consider it as negative rationale. This done to\n",
    "                rational.append(feature_name[i])             ### make very clear distinction between the negative and positive words.\n",
    "                index_negative.append(i)\n",
    "                index_overall.append(i)\n",
    "        else:\n",
    "\n",
    "            if poscount/negcount > 3:\n",
    "                positive_rational.append(feature_name[i])\n",
    "                rational.append(feature_name[i])\n",
    "                index_positive.append(i)\n",
    "                index_overall.append(i)\n",
    "            \n",
    "    print(\"\\n\\npositive_rational\",positive_rational,len(positive_rational))\n",
    "    print(\"\\n\\n negative_rational\",negative_rational,len(negative_rational))\n",
    "    print(\"\\n\\n rational\",rational,len(rational))\n",
    "    "
   ]
  },
  {
   "cell_type": "markdown",
   "metadata": {},
   "source": [
    "# Rationale generated"
   ]
  },
  {
   "cell_type": "code",
   "execution_count": 21,
   "metadata": {
    "collapsed": false
   },
   "outputs": [
    {
     "name": "stdout",
     "output_type": "stream",
     "text": [
      "\n",
      "\n",
      "positive_rational ['great', 'helpful', 'wonderful', 'perfect', 'excellent', 'friendly', 'loved', 'highly', 'comfortable', 'spacious', 'staff', 'amazing', 'definitely', 'enjoyed'] 14\n",
      "\n",
      "\n",
      " negative_rational ['dirty', 'worst', 'finally', 'carpet', 'broken', 'poor', 'rude', 'stains', 'horrible', 'disgusting', 'terrible', 'filthy', 'worn', 'carpets', 'awful', 'shabby', 'peeling', 'clearly', 'stained', 'worse', 'dirt', 'disappointing', 'smoke', 'hairs', 'poorly', 'shut'] 26\n",
      "\n",
      "\n",
      " rational ['dirty', 'worst', 'finally', 'carpet', 'great', 'broken', 'poor', 'helpful', 'rude', 'wonderful', 'perfect', 'stains', 'horrible', 'disgusting', 'excellent', 'terrible', 'friendly', 'filthy', 'worn', 'carpets', 'awful', 'loved', 'shabby', 'highly', 'comfortable', 'peeling', 'spacious', 'clearly', 'stained', 'staff', 'amazing', 'worse', 'definitely', 'dirt', 'disappointing', 'smoke', 'hairs', 'poorly', 'shut', 'enjoyed'] 40\n"
     ]
    },
    {
     "name": "stderr",
     "output_type": "stream",
     "text": [
      "C:\\Users\\sunvi\\Anaconda3\\lib\\site-packages\\ipykernel\\__main__.py:16: RuntimeWarning: divide by zero encountered in longlong_scalars\n"
     ]
    }
   ],
   "source": [
    "count_positive_negative(X_train,y_train,feature_rank)"
   ]
  },
  {
   "cell_type": "code",
   "execution_count": 22,
   "metadata": {
    "collapsed": false
   },
   "outputs": [],
   "source": [
    "X_test = X_test.toarray()"
   ]
  },
  {
   "cell_type": "markdown",
   "metadata": {},
   "source": [
    "# Count of negative rationale in training set"
   ]
  },
  {
   "cell_type": "code",
   "execution_count": 24,
   "metadata": {
    "collapsed": false
   },
   "outputs": [
    {
     "name": "stdout",
     "output_type": "stream",
     "text": [
      "the negative word is  dirty and count in training set is  151\n",
      "the negative word is  worst and count in training set is  88\n",
      "the negative word is  finally and count in training set is  113\n",
      "the negative word is  carpet and count in training set is  115\n",
      "the negative word is  broken and count in training set is  60\n",
      "the negative word is  poor and count in training set is  86\n",
      "the negative word is  rude and count in training set is  82\n",
      "the negative word is  stains and count in training set is  53\n",
      "the negative word is  horrible and count in training set is  61\n",
      "the negative word is  disgusting and count in training set is  36\n",
      "the negative word is  terrible and count in training set is  60\n",
      "the negative word is  filthy and count in training set is  35\n",
      "the negative word is  worn and count in training set is  68\n",
      "the negative word is  carpets and count in training set is  46\n",
      "the negative word is  awful and count in training set is  46\n",
      "the negative word is  shabby and count in training set is  29\n",
      "the negative word is  peeling and count in training set is  33\n",
      "the negative word is  clearly and count in training set is  42\n",
      "the negative word is  stained and count in training set is  37\n",
      "the negative word is  worse and count in training set is  39\n",
      "the negative word is  dirt and count in training set is  23\n",
      "the negative word is  disappointing and count in training set is  39\n",
      "the negative word is  smoke and count in training set is  41\n",
      "the negative word is  hairs and count in training set is  17\n",
      "the negative word is  poorly and count in training set is  27\n",
      "the negative word is  shut and count in training set is  38\n"
     ]
    }
   ],
   "source": [
    "for i in index_negative:\n",
    "    sum = np.sum(X_train[:,i])\n",
    "    print(\"the negative word is \",feature_name[i],\"and count in training set is \",sum)"
   ]
  },
  {
   "cell_type": "markdown",
   "metadata": {},
   "source": [
    "# Count of negative rationale in test set"
   ]
  },
  {
   "cell_type": "code",
   "execution_count": 626,
   "metadata": {
    "collapsed": false
   },
   "outputs": [
    {
     "name": "stdout",
     "output_type": "stream",
     "text": [
      "the negative word is  dirty and count in test set is  1211\n",
      "the negative word is  worst and count in test set is  771\n",
      "the negative word is  finally and count in test set is  1008\n",
      "the negative word is  carpet and count in test set is  1011\n",
      "the negative word is  broken and count in test set is  644\n",
      "the negative word is  poor and count in test set is  863\n",
      "the negative word is  rude and count in test set is  812\n",
      "the negative word is  stains and count in test set is  367\n",
      "the negative word is  horrible and count in test set is  571\n",
      "the negative word is  disgusting and count in test set is  277\n",
      "the negative word is  terrible and count in test set is  679\n",
      "the negative word is  filthy and count in test set is  291\n",
      "the negative word is  worn and count in test set is  580\n",
      "the negative word is  carpets and count in test set is  318\n",
      "the negative word is  awful and count in test set is  398\n",
      "the negative word is  shabby and count in test set is  187\n",
      "the negative word is  peeling and count in test set is  211\n",
      "the negative word is  clearly and count in test set is  458\n",
      "the negative word is  stained and count in test set is  328\n",
      "the negative word is  worse and count in test set is  418\n",
      "the negative word is  dirt and count in test set is  123\n",
      "the negative word is  disappointing and count in test set is  434\n",
      "the negative word is  smoke and count in test set is  404\n",
      "the negative word is  hairs and count in test set is  99\n",
      "the negative word is  poorly and count in test set is  180\n",
      "the negative word is  shut and count in test set is  315\n"
     ]
    }
   ],
   "source": [
    "for i in index_negative:\n",
    "    sum = np.sum(X_test[:,i])\n",
    "    print(\"the negative word is \",feature_name[i],\"and count in test set is \",sum)"
   ]
  },
  {
   "cell_type": "markdown",
   "metadata": {},
   "source": [
    "# Count of positive rationale in training set"
   ]
  },
  {
   "cell_type": "code",
   "execution_count": 633,
   "metadata": {
    "collapsed": false
   },
   "outputs": [
    {
     "name": "stdout",
     "output_type": "stream",
     "text": [
      "the negative word is  great and count in test set is  1689\n",
      "the negative word is  helpful and count in test set is  830\n",
      "the negative word is  wonderful and count in test set is  372\n",
      "the negative word is  perfect and count in test set is  347\n",
      "the negative word is  excellent and count in test set is  509\n",
      "the negative word is  friendly and count in test set is  981\n",
      "the negative word is  loved and count in test set is  270\n",
      "the negative word is  highly and count in test set is  203\n",
      "the negative word is  comfortable and count in test set is  917\n",
      "the negative word is  spacious and count in test set is  322\n",
      "the negative word is  staff and count in test set is  1946\n",
      "the negative word is  amazing and count in test set is  223\n",
      "the negative word is  definitely and count in test set is  475\n",
      "the negative word is  enjoyed and count in test set is  272\n"
     ]
    }
   ],
   "source": [
    "for i in index_positive:\n",
    "    sum = np.sum(X_train[:,i])\n",
    "    print(\"the negative word is \",feature_name[i],\"and count in test set is \",sum)"
   ]
  },
  {
   "cell_type": "markdown",
   "metadata": {},
   "source": [
    "# Count of positive rationale in test set"
   ]
  },
  {
   "cell_type": "code",
   "execution_count": 634,
   "metadata": {
    "collapsed": false
   },
   "outputs": [
    {
     "name": "stdout",
     "output_type": "stream",
     "text": [
      "the positive word is  great and count in test set is  14915\n",
      "the positive word is  helpful and count in test set is  7290\n",
      "the positive word is  wonderful and count in test set is  2967\n",
      "the positive word is  perfect and count in test set is  3032\n",
      "the positive word is  excellent and count in test set is  4326\n",
      "the positive word is  friendly and count in test set is  8893\n",
      "the positive word is  loved and count in test set is  2228\n",
      "the positive word is  highly and count in test set is  1750\n",
      "the positive word is  comfortable and count in test set is  8118\n",
      "the positive word is  spacious and count in test set is  2814\n",
      "the positive word is  staff and count in test set is  17154\n",
      "the positive word is  amazing and count in test set is  1844\n",
      "the positive word is  definitely and count in test set is  4008\n",
      "the positive word is  enjoyed and count in test set is  2228\n"
     ]
    }
   ],
   "source": [
    "for i in index_positive:\n",
    "    sum = np.sum(X_test[:,i])\n",
    "    print(\"the positive word is \",feature_name[i],\"and count in test set is \",sum)"
   ]
  },
  {
   "cell_type": "code",
   "execution_count": 25,
   "metadata": {
    "collapsed": true
   },
   "outputs": [],
   "source": [
    "from sklearn import linear_model                                    # Select the classifier which you want to import.Just comment \n",
    "clf_with_tandem = linear_model.LogisticRegression(penalty='l2')     # and uncomment.\n",
    "#from sklearn.naive_bayes import MultinomialNB\n",
    "#clf_with_tandem = MultinomialNB()"
   ]
  },
  {
   "cell_type": "code",
   "execution_count": 26,
   "metadata": {
    "collapsed": true
   },
   "outputs": [],
   "source": [
    "from scipy import sparse\n",
    "X_train = sparse.csr_matrix(X_train,dtype=float)   ## Converting X_train back to sparse matrix and in float so that value of 0.01 can be stored\n",
    "X_test = sparse.csr_matrix(X_test)"
   ]
  },
  {
   "cell_type": "markdown",
   "metadata": {},
   "source": [
    "# TANDEM learning"
   ]
  },
  {
   "cell_type": "markdown",
   "metadata": {},
   "source": [
    "# Fitting the tandem training model iteratively after each count of 5. In this model we multiply the all the features (matching with rationale) of the document by 1 and all the other non matching feature with 0.01"
   ]
  },
  {
   "cell_type": "code",
   "execution_count": 27,
   "metadata": {
    "collapsed": false
   },
   "outputs": [],
   "source": [
    "\n",
    "X_train_copy = X_train.copy()\n",
    "training_accuracy = []\n",
    "testing_accuracy = []\n",
    "y_final_train =[]\n",
    "X_final_train = None\n",
    "count = 0\n",
    "total_count = 0\n",
    "count_total =[]\n",
    "countnumber = 1\n",
    "auc_tandem = []\n",
    "for i in range(0,200):\n",
    "    count = count + 1\n",
    "    total_count = total_count + 1\n",
    "    features = X_train_copy[i].indices\n",
    "    if y_train.iloc[i] == 0:\n",
    "        for f in features:\n",
    "            if f in index_negative:\n",
    "                values= 1 * X_train_copy[i,f]\n",
    "                X_train_copy[i,f] = values\n",
    "            else:\n",
    "                vals = 0.01 * X_train_copy[i,f]\n",
    "                X_train_copy[i,f] =  vals\n",
    "\n",
    "    else:\n",
    "        \n",
    "        for f in features:\n",
    "            if f in index_positive:\n",
    "                X_train_copy[i,f] = 1 * X_train_copy[i,f]\n",
    "            else:\n",
    "                X_train_copy[i,f] = 0.01 * X_train_copy[i,f]\n",
    "    X_final_train = sp.vstack((X_final_train,X_train_copy[i]))        \n",
    "    y_final_train.append(y_train.iloc[i])\n",
    "    \n",
    "    if count == 5:\n",
    "        count = 0\n",
    "        count_total.append(total_count)\n",
    "        clf_with_tandem.fit(X_final_train, y_final_train)\n",
    "        training_accuracy.append(clf_with_tandem.score(X_final_train, y_final_train))\n",
    "        testing_accuracy.append(clf_with_tandem.score(X_test, y_test))\n",
    "        pred = clf_with_tandem.predict_proba(X_test)[:,1]\n",
    "        fpr,tpr,_= metrics.roc_curve(y_test,pred)\n",
    "        auc_tandem.append(metrics.auc(fpr,tpr))\n",
    "        "
   ]
  },
  {
   "cell_type": "markdown",
   "metadata": {},
   "source": [
    "# Learning with rationale"
   ]
  },
  {
   "cell_type": "markdown",
   "metadata": {},
   "source": [
    "# Fitting the rationale  training model iteratively after each count of 5. In this model we multiply the only one of the features in document , matching with rationale document with 1 and all the other features of the document with 0.01"
   ]
  },
  {
   "cell_type": "code",
   "execution_count": 28,
   "metadata": {
    "collapsed": true
   },
   "outputs": [],
   "source": [
    "from sklearn import linear_model                                      ### Comment and un-commnet to change the classifier   \n",
    "clf_with_rationale = linear_model.LogisticRegression(penalty='l2')\n",
    "#from sklearn.naive_bayes import MultinomialNB\n",
    "#clf_with_rationale = MultinomialNB()"
   ]
  },
  {
   "cell_type": "code",
   "execution_count": 29,
   "metadata": {
    "collapsed": true
   },
   "outputs": [],
   "source": [
    "import random\n",
    "def randomfeature(features,index):           ##### This function is select the one rationale at random from all the matched rationale\n",
    "    matched = (set(features) & set(index))\n",
    "    if len(matched) > 0:\n",
    "        return random.sample(matched,1)\n",
    "    else:\n",
    "        return -1 "
   ]
  },
  {
   "cell_type": "code",
   "execution_count": 30,
   "metadata": {
    "collapsed": false
   },
   "outputs": [],
   "source": [
    "\n",
    "X_train_rationale = X_train.copy()\n",
    "training_accuracy_rationale = []\n",
    "testing_accuracy_rationale = []\n",
    "y_final_train_rationale =[]\n",
    "X_final_train_rationale = None\n",
    "count3 = 0\n",
    "total_count3 = 0\n",
    "count_total3 =[]\n",
    "countnumber = 1\n",
    "auc_rationale = []\n",
    "for i in range(0,200):\n",
    "    count3 = count3 + 1\n",
    "#    print(i)\n",
    "    total_count3 = total_count3 + 1\n",
    "    features = X_train_rationale[i].indices\n",
    "    if y_train.iloc[i] == 0:\n",
    "#        print(i)\n",
    "        f = randomfeature(features,index_negative)\n",
    "        for feats in features:\n",
    "            if f == feats:\n",
    "                \n",
    "                values= 1 * X_train_rationale[i,feats]\n",
    "                X_train_rationale[i,feats] = values\n",
    "#                print(X_train_rationale[i,feats],i,f,feats)\n",
    "            else:\n",
    "                vals = 0.01 * X_train_rationale[i,feats]\n",
    "                X_train_rationale[i,feats] =  vals\n",
    "#                print(X_train_rationale[i,feats],i,f,feats)\n",
    "\n",
    "    else:\n",
    "        f = randomfeature(features,index_positive)\n",
    "        for feats in features:\n",
    "            if f == feats:\n",
    "                X_train_rationale[i,feats] = 1 * X_train_rationale[i,feats]\n",
    "#                print(\"positive\",X_train_rationale[i,feats],i,f,feats)\n",
    "            else:\n",
    "                X_train_rationale[i,feats] = 0.01 * X_train_rationale[i,feats]\n",
    "#                print(\"positive\",X_train_rationale[i,feats],i,f,feats)\n",
    "    X_final_train_rationale = sp.vstack((X_final_train_rationale,X_train_rationale[i]))        \n",
    "    y_final_train_rationale.append(y_train.iloc[i])\n",
    "    \n",
    "    if count3 == 5:\n",
    "        count3 = 0\n",
    "        count_total3.append(total_count3)\n",
    "        clf_with_rationale.fit(X_final_train_rationale, y_final_train_rationale)\n",
    "        training_accuracy_rationale.append(clf_with_rationale.score(X_final_train_rationale, y_final_train_rationale))\n",
    "        testing_accuracy_rationale.append(clf_with_rationale.score(X_test, y_test))\n",
    "        pred = clf_with_rationale.predict_proba(X_test)[:,1]\n",
    "        fpr,tpr,_= metrics.roc_curve(y_test,pred)\n",
    "        auc_rationale.append(metrics.auc(fpr,tpr))\n",
    "        "
   ]
  },
  {
   "cell_type": "markdown",
   "metadata": {},
   "source": [
    "# Plotting of accuracy curve"
   ]
  },
  {
   "cell_type": "code",
   "execution_count": 31,
   "metadata": {
    "collapsed": false
   },
   "outputs": [
    {
     "data": {
      "image/png": "[encoded data removed]",
      "text/plain": [
       "<matplotlib.figure.Figure at 0x1b32fb6d710>"
      ]
     },
     "metadata": {},
     "output_type": "display_data"
    }
   ],
   "source": [
    "import matplotlib.pyplot as plt\n",
    "plt.plot(total1,accu_test_wor,label = \"tradional learning\")\n",
    "plt.plot(count_total,testing_accuracy,label = \"tandem learning\")\n",
    "plt.plot(count_total3,testing_accuracy_rationale,label =\"rationale learning\")\n",
    "plt.legend()\n",
    "plt.xlabel('Number of documents')\n",
    "plt.ylabel('Accuracy')\n",
    "plt.show()"
   ]
  },
  {
   "cell_type": "markdown",
   "metadata": {},
   "source": [
    "# Plotting of the AUC curve"
   ]
  },
  {
   "cell_type": "code",
   "execution_count": 32,
   "metadata": {
    "collapsed": false
   },
   "outputs": [
    {
     "data": {
      "image/png": "[encoded data removed]",
      "text/plain": [
       "<matplotlib.figure.Figure at 0x1b32e26cd30>"
      ]
     },
     "metadata": {},
     "output_type": "display_data"
    }
   ],
   "source": [
    "import matplotlib.pyplot as plt\n",
    "plt.plot(total1,auc_tradional,label = \"tradional learning\")\n",
    "plt.plot(count_total,auc_tandem,label = \"tandem learning\")\n",
    "plt.plot(count_total3,auc_rationale,label =\"rationale learning\")\n",
    "plt.legend()\n",
    "plt.xlabel('Number of documents')\n",
    "plt.ylabel('AUC curve')\n",
    "plt.show()"
   ]
  },
  {
   "cell_type": "code",
   "execution_count": 33,
   "metadata": {
    "collapsed": false
   },
   "outputs": [],
   "source": [
    "total_accuracy_tradional_learning.append(accu_test_wor)\n",
    "total_accuracy_tandem_learning.append(testing_accuracy)\n",
    "total_accuracy_rationale_learning.append(testing_accuracy_rationale)\n",
    "total_auc_tradional.append(auc_tradional)\n",
    "total_auc_tandem.append(auc_tandem)\n",
    "total_auc_rationale.append(auc_rationale)"
   ]
  },
  {
   "cell_type": "code",
   "execution_count": 34,
   "metadata": {
    "collapsed": false
   },
   "outputs": [
    {
     "data": {
      "text/plain": [
       "1"
      ]
     },
     "execution_count": 34,
     "metadata": {},
     "output_type": "execute_result"
    }
   ],
   "source": [
    "len(total_accuracy_tradional_learning)"
   ]
  },
  {
   "cell_type": "markdown",
   "metadata": {},
   "source": [
    "# Takeing the average of 5 runs:  Execute only after running the above code 5 times to get average accuracy graph"
   ]
  },
  {
   "cell_type": "code",
   "execution_count": 35,
   "metadata": {
    "collapsed": false
   },
   "outputs": [],
   "source": [
    "total_accuracy_tradional_learning = np.asarray(total_accuracy_tradional_learning)\n",
    "total_accuracy_tandem_learning = np.asarray(total_accuracy_tandem_learning)\n",
    "total_accuracy_rationale_learning = np.asarray(total_accuracy_rationale_learning)\n",
    "total_auc_tradional = np.asarray(total_auc_tradional)\n",
    "total_auc_tandem = np.asarray(total_auc_tandem)\n",
    "total_auc_rationale = np.asarray(total_auc_rationale)"
   ]
  },
  {
   "cell_type": "code",
   "execution_count": 36,
   "metadata": {
    "collapsed": false
   },
   "outputs": [],
   "source": [
    "average_total_accuracy_tradional_learning = np.mean(total_accuracy_tradional_learning,axis =0 )\n",
    "average_total_accuracy_tandem_learning = np.mean(total_accuracy_tandem_learning,axis =0)\n",
    "average_total_accuracy_rationale_learning = np.mean(total_accuracy_rationale_learning,axis =0)\n",
    "average_auc_tradional = np.mean(total_auc_tradional,axis = 0)\n",
    "average_auc_tandem = np.mean(total_auc_tandem,axis = 0)\n",
    "average_auc_rationale  = np.mean(total_auc_rationale,axis = 0)"
   ]
  },
  {
   "cell_type": "code",
   "execution_count": 441,
   "metadata": {
    "collapsed": false
   },
   "outputs": [
    {
     "data": {
      "text/plain": [
       "40"
      ]
     },
     "execution_count": 441,
     "metadata": {},
     "output_type": "execute_result"
    }
   ],
   "source": [
    "len(average_total_accuracy_tradional_learning)"
   ]
  },
  {
   "cell_type": "markdown",
   "metadata": {},
   "source": [
    "# Plotting of accuracy curve after taking the average "
   ]
  },
  {
   "cell_type": "code",
   "execution_count": 442,
   "metadata": {
    "collapsed": false
   },
   "outputs": [
    {
     "data": {
      "image/png": "[encoded data removed]",
      "text/plain": [
       "<matplotlib.figure.Figure at 0x2c6b5517b70>"
      ]
     },
     "metadata": {},
     "output_type": "display_data"
    }
   ],
   "source": [
    "import matplotlib.pyplot as plt\n",
    "plt.plot(total1,average_total_accuracy_tradional_learning,label = \"tradional learning\")\n",
    "plt.plot(count_total,average_total_accuracy_tandem_learning,label = \"tandem learning\")\n",
    "plt.plot(count_total3,average_total_accuracy_rationale_learning,label =\"rationale learning\")\n",
    "plt.legend()\n",
    "plt.xlabel('Number of documents')\n",
    "plt.ylabel('Accuracy')\n",
    "plt.show()"
   ]
  },
  {
   "cell_type": "markdown",
   "metadata": {},
   "source": [
    "# Plotting of AUC curve after taking the average "
   ]
  },
  {
   "cell_type": "code",
   "execution_count": 565,
   "metadata": {
    "collapsed": false
   },
   "outputs": [
    {
     "data": {
      "image/png": "[encoded data removed]",
      "text/plain": [
       "<matplotlib.figure.Figure at 0x2c6fbcc84a8>"
      ]
     },
     "metadata": {},
     "output_type": "display_data"
    }
   ],
   "source": [
    "import matplotlib.pyplot as plt\n",
    "plt.plot(total1,average_auc_tradional,label = \"tradional learning\")\n",
    "plt.plot(count_total,average_auc_tandem,label = \"tandem learning\")\n",
    "plt.plot(count_total3,average_auc_rationale,label =\"rationale learning\")\n",
    "plt.legend()\n",
    "plt.xlabel('Number of documents')\n",
    "plt.ylabel('AUC curve')\n",
    "plt.show()"
   ]
  },
  {
   "cell_type": "code",
   "execution_count": null,
   "metadata": {
    "collapsed": true
   },
   "outputs": [],
   "source": []
  }
 ],
 "metadata": {
  "kernelspec": {
   "display_name": "Python 3",
   "language": "python",
   "name": "python3"
  },
  "language_info": {
   "codemirror_mode": {
    "name": "ipython",
    "version": 3
   },
   "file_extension": ".py",
   "mimetype": "text/x-python",
   "name": "python",
   "nbconvert_exporter": "python",
   "pygments_lexer": "ipython3",
   "version": "3.6.2"
  }
 },
 "nbformat": 4,
 "nbformat_minor": 2
}
